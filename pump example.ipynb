{
 "cells": [
  {
   "cell_type": "code",
   "execution_count": 1,
   "id": "b29e3979",
   "metadata": {},
   "outputs": [],
   "source": [
    "from pyomo.environ import *\n",
    "from idaes.core import FlowsheetBlock\n",
    "from idaes.generic_models.unit_models.pressure_changer import Pump\n",
    "from idaes.generic_models.properties import iapws95\n",
    "from idaes.generic_models.properties.helmholtz.helmholtz import (PhaseType)\n",
    "from idaes.core.util.model_statistics import degrees_of_freedom\n",
    "import pytest\n",
    "\n",
    "solver = SolverFactory('ipopt')\n",
    "m = ConcreteModel()\n",
    "m.fs = FlowsheetBlock(default={\"dynamic\": False})\n",
    "m.fs.properties = iapws95.Iapws95ParameterBlock(default={\"phase_presentation\":PhaseType.L})\n",
    "m.fs.unit = Pump (default={\n",
    "    \"property_package\": m.fs.properties})\n"
   ]
  },
  {
   "cell_type": "code",
   "execution_count": 2,
   "id": "f697a09c",
   "metadata": {},
   "outputs": [],
   "source": [
    "# m.y1 = Var(within = Binary, doc = '1 pump 1 is on, 0 is off')\n",
    "# Q = Var (within = NonNegativeReals, bounds=(24, 32))\n",
    "# Q_constraint = Constraint (expr = Q == 120*m.y1)\n",
    "\n",
    "Q = 24 # mol/s\n",
    "m.fs.unit.BHP = Var (within = NonNegativeReals)\n",
    "\n",
    "P_disc_constraint = Constraint (expr = m.fs.unit.outlet.pressure[0] == \n",
    "                     ((-3.1795*Q**4)+(150.43*Q**3)-(2258.8*Q**2)*(22975*Q)+3000000))\n",
    "eff_constraint = Constraint (expr = m.fs.unit.efficiency_pump ==  \n",
    "                   (0.00002*Q**3)-(0.0022*Q**2)+(0.0774*Q)+(0.009))\n",
    "BHP = Constraint (expr = m.fs.unit.BHP ==  \n",
    "                   (-0.021*Q**3)+(0.9103*Q**2)+(0.0248*Q)+(408.11))"
   ]
  },
  {
   "cell_type": "code",
   "execution_count": 3,
   "id": "9ebf0e2b",
   "metadata": {},
   "outputs": [
    {
     "name": "stdout",
     "output_type": "stream",
     "text": [
      "100000.0\n"
     ]
    }
   ],
   "source": [
    "print (value(m.fs.unit.outlet.pressure[0]))"
   ]
  },
  {
   "cell_type": "code",
   "execution_count": 4,
   "id": "142f8fa8",
   "metadata": {},
   "outputs": [
    {
     "name": "stdout",
     "output_type": "stream",
     "text": [
      "2172193.728\n"
     ]
    }
   ],
   "source": [
    "print  ((-3.1795*Q**4)+(150.43*Q**3)-(2258.8*Q**2)-(22975*Q)+3000000)"
   ]
  },
  {
   "cell_type": "code",
   "execution_count": null,
   "id": "0ac7752c",
   "metadata": {},
   "outputs": [],
   "source": [
    "Tin = 350  # K\n",
    "Pin = 101325  # Pa\n",
    "hin = value(iapws95.htpx(Tin*units.K, Pin*units.Pa))\n",
    "\n",
    "# set inputs\n",
    "m.fs.unit.inlet.flow_mol[0].fix(Q)  # mol/s\n",
    "m.fs.unit.inlet.enth_mol[0].fix(hin)\n",
    "m.fs.unit.inlet.pressure[0].fix(Pin)\n",
    "# m.fs.unit.outlet.pressure[0].fix(P_des)\n",
    "# m.fs.unit.efficiency_pump.fix(eff_P)\n",
    "\n",
    "\n",
    "# assert value(m.fs.unit.efficiency_isentropic[0]) == pytest.approx(0.9, rel=1e-3)\n",
    "# assert value(m.fs.unit.deltaP[0]) == pytest.approx(-3e5, rel=1e-3)"
   ]
  },
  {
   "cell_type": "code",
   "execution_count": null,
   "id": "c079c24f",
   "metadata": {},
   "outputs": [],
   "source": [
    "print (degrees_of_freedom(m)) "
   ]
  },
  {
   "cell_type": "code",
   "execution_count": null,
   "id": "1f8a5395",
   "metadata": {},
   "outputs": [],
   "source": [
    "m.fs.unit.initialize()\n",
    "solver.solve(m, tee=False)"
   ]
  },
  {
   "cell_type": "code",
   "execution_count": null,
   "id": "ed56cc93",
   "metadata": {},
   "outputs": [],
   "source": [
    "m.fs.unit.report()"
   ]
  }
 ],
 "metadata": {
  "kernelspec": {
   "display_name": "Python 3 (ipykernel)",
   "language": "python",
   "name": "python3"
  },
  "language_info": {
   "codemirror_mode": {
    "name": "ipython",
    "version": 3
   },
   "file_extension": ".py",
   "mimetype": "text/x-python",
   "name": "python",
   "nbconvert_exporter": "python",
   "pygments_lexer": "ipython3",
   "version": "3.10.5"
  }
 },
 "nbformat": 4,
 "nbformat_minor": 5
}
